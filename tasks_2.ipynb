{
  "nbformat": 4,
  "nbformat_minor": 0,
  "metadata": {
    "kernelspec": {
      "display_name": "Python 3",
      "language": "python",
      "name": "python3"
    },
    "language_info": {
      "codemirror_mode": {
        "name": "ipython",
        "version": 3
      },
      "file_extension": ".py",
      "mimetype": "text/x-python",
      "name": "python",
      "nbconvert_exporter": "python",
      "pygments_lexer": "ipython3",
      "version": "3.7.3"
    },
    "colab": {
      "name": "tasks_2.ipynb",
      "provenance": [],
      "collapsed_sections": [],
      "include_colab_link": true
    }
  },
  "cells": [
    {
      "cell_type": "markdown",
      "metadata": {
        "id": "view-in-github",
        "colab_type": "text"
      },
      "source": [
        "<a href=\"https://colab.research.google.com/github/liptserg/CourcePython_02/blob/main/tasks_2.ipynb\" target=\"_parent\"><img src=\"https://colab.research.google.com/assets/colab-badge.svg\" alt=\"Open In Colab\"/></a>"
      ]
    },
    {
      "cell_type": "markdown",
      "metadata": {
        "id": "FGEzn-IQyQZz"
      },
      "source": [
        "# Практическая часть \n",
        "# по теме Функциональное программирование на Python"
      ]
    },
    {
      "cell_type": "markdown",
      "metadata": {
        "id": "m3BlGe2dyQaA"
      },
      "source": [
        "1. Проверьте, возможно ли изменить список в процессе итерирования."
      ]
    },
    {
      "cell_type": "code",
      "metadata": {
        "id": "agyR1lhlySuC"
      },
      "source": [
        ""
      ],
      "execution_count": null,
      "outputs": []
    },
    {
      "cell_type": "markdown",
      "metadata": {
        "id": "efngRlDNyQaC"
      },
      "source": [
        "2. Написать функцию, принимающую 2 списка и возвращающую декартово произведение (использовать itertools.product)"
      ]
    },
    {
      "cell_type": "markdown",
      "metadata": {
        "id": "WggsUERvyQaC"
      },
      "source": [
        "3. Написать функцию, принимающую строку s и число n и возвращающую всевозможные перестановки из n символов в s строке в лексикографическом(!) порядке (использовать itertools.permutations)"
      ]
    },
    {
      "cell_type": "markdown",
      "metadata": {
        "id": "7MXz8QsOyQaD"
      },
      "source": [
        "4. Реализовать функцию get_combinations. Должна принимать строку s и число k и возвращать все возможные комбинации из символов в строке s с длинами <= k (использовать itertools.combinations)"
      ]
    },
    {
      "cell_type": "markdown",
      "metadata": {
        "id": "drLfT4suyQaE"
      },
      "source": [
        "5. Функция должна принимать строку s и число k и возвращать все возможные комбинации из символов в строке s с длинами = k с повторениями (использовать itertools.combinations_with_replacement)"
      ]
    },
    {
      "cell_type": "markdown",
      "metadata": {
        "id": "OIoRHg62yQaE"
      },
      "source": [
        "6. Написать функцию, которая подсчитывает количество подряд идующих символов в строке (использовать itertools.groupby)"
      ]
    },
    {
      "cell_type": "markdown",
      "metadata": {
        "id": "wXnsHd-ayQaF"
      },
      "source": [
        "7. В функцию передается список списков. Нужно вернуть максимум, который достигает выражение $(a_1^2 + a_2^2 + ... + a_n^2) % m $. Где ai --- максимальный элемент из i-ого списка (использовать функцию из itertools)"
      ]
    },
    {
      "cell_type": "markdown",
      "metadata": {
        "id": "U4g8kIdOyQaF"
      },
      "source": [
        "8. Напишите генератор, выводящий первые n чисел Фибоначчи."
      ]
    },
    {
      "cell_type": "markdown",
      "metadata": {
        "id": "Zi0MbQq-yQaG"
      },
      "source": [
        "9. Ознакомьтесь с документацией по функциям zip, map, enumerate."
      ]
    },
    {
      "cell_type": "markdown",
      "metadata": {
        "id": "Ktv4f-5KyQaG"
      },
      "source": [
        "10. Реализуйте аналог функций zip, map, enumerate."
      ]
    }
  ]
}